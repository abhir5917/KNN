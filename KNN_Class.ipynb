{
 "cells": [
  {
   "cell_type": "code",
   "execution_count": 59,
   "metadata": {},
   "outputs": [],
   "source": [
    "import pandas as pd\n",
    "import numpy as np\n",
    "import matplotlib.pyplot as plt"
   ]
  },
  {
   "cell_type": "code",
   "execution_count": 8,
   "metadata": {},
   "outputs": [],
   "source": [
    "df = pd. read_csv(\"Mall_Customers.csv\")"
   ]
  },
  {
   "cell_type": "code",
   "execution_count": 9,
   "metadata": {},
   "outputs": [
    {
     "data": {
      "text/plain": [
       "(200, 5)"
      ]
     },
     "execution_count": 9,
     "metadata": {},
     "output_type": "execute_result"
    }
   ],
   "source": [
    "df.shape"
   ]
  },
  {
   "cell_type": "code",
   "execution_count": 10,
   "metadata": {},
   "outputs": [
    {
     "data": {
      "text/html": [
       "<div>\n",
       "<style scoped>\n",
       "    .dataframe tbody tr th:only-of-type {\n",
       "        vertical-align: middle;\n",
       "    }\n",
       "\n",
       "    .dataframe tbody tr th {\n",
       "        vertical-align: top;\n",
       "    }\n",
       "\n",
       "    .dataframe thead th {\n",
       "        text-align: right;\n",
       "    }\n",
       "</style>\n",
       "<table border=\"1\" class=\"dataframe\">\n",
       "  <thead>\n",
       "    <tr style=\"text-align: right;\">\n",
       "      <th></th>\n",
       "      <th>CustomerID</th>\n",
       "      <th>Gender</th>\n",
       "      <th>Age</th>\n",
       "      <th>Annual Income (k$)</th>\n",
       "      <th>Spending Score (1-100)</th>\n",
       "    </tr>\n",
       "  </thead>\n",
       "  <tbody>\n",
       "    <tr>\n",
       "      <th>0</th>\n",
       "      <td>1</td>\n",
       "      <td>Male</td>\n",
       "      <td>19</td>\n",
       "      <td>15</td>\n",
       "      <td>39</td>\n",
       "    </tr>\n",
       "    <tr>\n",
       "      <th>1</th>\n",
       "      <td>2</td>\n",
       "      <td>Male</td>\n",
       "      <td>21</td>\n",
       "      <td>15</td>\n",
       "      <td>81</td>\n",
       "    </tr>\n",
       "    <tr>\n",
       "      <th>2</th>\n",
       "      <td>3</td>\n",
       "      <td>Female</td>\n",
       "      <td>20</td>\n",
       "      <td>16</td>\n",
       "      <td>6</td>\n",
       "    </tr>\n",
       "    <tr>\n",
       "      <th>3</th>\n",
       "      <td>4</td>\n",
       "      <td>Female</td>\n",
       "      <td>23</td>\n",
       "      <td>16</td>\n",
       "      <td>77</td>\n",
       "    </tr>\n",
       "    <tr>\n",
       "      <th>4</th>\n",
       "      <td>5</td>\n",
       "      <td>Female</td>\n",
       "      <td>31</td>\n",
       "      <td>17</td>\n",
       "      <td>40</td>\n",
       "    </tr>\n",
       "  </tbody>\n",
       "</table>\n",
       "</div>"
      ],
      "text/plain": [
       "   CustomerID  Gender  Age  Annual Income (k$)  Spending Score (1-100)\n",
       "0           1    Male   19                  15                      39\n",
       "1           2    Male   21                  15                      81\n",
       "2           3  Female   20                  16                       6\n",
       "3           4  Female   23                  16                      77\n",
       "4           5  Female   31                  17                      40"
      ]
     },
     "execution_count": 10,
     "metadata": {},
     "output_type": "execute_result"
    }
   ],
   "source": [
    "df.head()"
   ]
  },
  {
   "cell_type": "code",
   "execution_count": 11,
   "metadata": {},
   "outputs": [
    {
     "data": {
      "text/plain": [
       "CustomerID                0\n",
       "Gender                    0\n",
       "Age                       0\n",
       "Annual Income (k$)        0\n",
       "Spending Score (1-100)    0\n",
       "dtype: int64"
      ]
     },
     "execution_count": 11,
     "metadata": {},
     "output_type": "execute_result"
    }
   ],
   "source": [
    "df.isna().sum()"
   ]
  },
  {
   "cell_type": "code",
   "execution_count": 16,
   "metadata": {},
   "outputs": [],
   "source": [
    "#droping CustomerID column as it is not making an important contribution while KNN\n",
    "df.drop('CustomerID',axis =1,inplace = True)"
   ]
  },
  {
   "cell_type": "code",
   "execution_count": 17,
   "metadata": {},
   "outputs": [
    {
     "data": {
      "text/html": [
       "<div>\n",
       "<style scoped>\n",
       "    .dataframe tbody tr th:only-of-type {\n",
       "        vertical-align: middle;\n",
       "    }\n",
       "\n",
       "    .dataframe tbody tr th {\n",
       "        vertical-align: top;\n",
       "    }\n",
       "\n",
       "    .dataframe thead th {\n",
       "        text-align: right;\n",
       "    }\n",
       "</style>\n",
       "<table border=\"1\" class=\"dataframe\">\n",
       "  <thead>\n",
       "    <tr style=\"text-align: right;\">\n",
       "      <th></th>\n",
       "      <th>Gender</th>\n",
       "      <th>Age</th>\n",
       "      <th>Annual Income (k$)</th>\n",
       "      <th>Spending Score (1-100)</th>\n",
       "    </tr>\n",
       "  </thead>\n",
       "  <tbody>\n",
       "    <tr>\n",
       "      <th>0</th>\n",
       "      <td>Male</td>\n",
       "      <td>19</td>\n",
       "      <td>15</td>\n",
       "      <td>39</td>\n",
       "    </tr>\n",
       "    <tr>\n",
       "      <th>1</th>\n",
       "      <td>Male</td>\n",
       "      <td>21</td>\n",
       "      <td>15</td>\n",
       "      <td>81</td>\n",
       "    </tr>\n",
       "    <tr>\n",
       "      <th>2</th>\n",
       "      <td>Female</td>\n",
       "      <td>20</td>\n",
       "      <td>16</td>\n",
       "      <td>6</td>\n",
       "    </tr>\n",
       "    <tr>\n",
       "      <th>3</th>\n",
       "      <td>Female</td>\n",
       "      <td>23</td>\n",
       "      <td>16</td>\n",
       "      <td>77</td>\n",
       "    </tr>\n",
       "    <tr>\n",
       "      <th>4</th>\n",
       "      <td>Female</td>\n",
       "      <td>31</td>\n",
       "      <td>17</td>\n",
       "      <td>40</td>\n",
       "    </tr>\n",
       "  </tbody>\n",
       "</table>\n",
       "</div>"
      ],
      "text/plain": [
       "   Gender  Age  Annual Income (k$)  Spending Score (1-100)\n",
       "0    Male   19                  15                      39\n",
       "1    Male   21                  15                      81\n",
       "2  Female   20                  16                       6\n",
       "3  Female   23                  16                      77\n",
       "4  Female   31                  17                      40"
      ]
     },
     "execution_count": 17,
     "metadata": {},
     "output_type": "execute_result"
    }
   ],
   "source": [
    "df.head()"
   ]
  },
  {
   "cell_type": "code",
   "execution_count": 22,
   "metadata": {},
   "outputs": [],
   "source": [
    "df.rename(columns = {\"Annual Income (k$)\" :\"Annual Income\", \"Spending Score (1-100)\": \"Spending Score\" }, inplace= True)"
   ]
  },
  {
   "cell_type": "code",
   "execution_count": 46,
   "metadata": {},
   "outputs": [
    {
     "data": {
      "text/html": [
       "<div>\n",
       "<style scoped>\n",
       "    .dataframe tbody tr th:only-of-type {\n",
       "        vertical-align: middle;\n",
       "    }\n",
       "\n",
       "    .dataframe tbody tr th {\n",
       "        vertical-align: top;\n",
       "    }\n",
       "\n",
       "    .dataframe thead th {\n",
       "        text-align: right;\n",
       "    }\n",
       "</style>\n",
       "<table border=\"1\" class=\"dataframe\">\n",
       "  <thead>\n",
       "    <tr style=\"text-align: right;\">\n",
       "      <th></th>\n",
       "      <th>Gender</th>\n",
       "      <th>Age</th>\n",
       "      <th>Annual Income</th>\n",
       "      <th>Spending Score</th>\n",
       "    </tr>\n",
       "  </thead>\n",
       "  <tbody>\n",
       "    <tr>\n",
       "      <th>0</th>\n",
       "      <td>1</td>\n",
       "      <td>19</td>\n",
       "      <td>15000000</td>\n",
       "      <td>39</td>\n",
       "    </tr>\n",
       "    <tr>\n",
       "      <th>1</th>\n",
       "      <td>1</td>\n",
       "      <td>21</td>\n",
       "      <td>15000000</td>\n",
       "      <td>81</td>\n",
       "    </tr>\n",
       "    <tr>\n",
       "      <th>2</th>\n",
       "      <td>0</td>\n",
       "      <td>20</td>\n",
       "      <td>16000000</td>\n",
       "      <td>6</td>\n",
       "    </tr>\n",
       "    <tr>\n",
       "      <th>3</th>\n",
       "      <td>0</td>\n",
       "      <td>23</td>\n",
       "      <td>16000000</td>\n",
       "      <td>77</td>\n",
       "    </tr>\n",
       "    <tr>\n",
       "      <th>4</th>\n",
       "      <td>0</td>\n",
       "      <td>31</td>\n",
       "      <td>17000000</td>\n",
       "      <td>40</td>\n",
       "    </tr>\n",
       "  </tbody>\n",
       "</table>\n",
       "</div>"
      ],
      "text/plain": [
       "   Gender  Age  Annual Income  Spending Score\n",
       "0       1   19       15000000              39\n",
       "1       1   21       15000000              81\n",
       "2       0   20       16000000               6\n",
       "3       0   23       16000000              77\n",
       "4       0   31       17000000              40"
      ]
     },
     "execution_count": 46,
     "metadata": {},
     "output_type": "execute_result"
    }
   ],
   "source": [
    "df['Annual Income'] = df['Annual Income'] * 1000\n",
    "df['Gender'] = np.where(df['Gender']==\"Male\",1,0)   ### ASsigning 1 to Male and 0 to Femle in gender\n",
    "df.head()"
   ]
  },
  {
   "cell_type": "code",
   "execution_count": 47,
   "metadata": {},
   "outputs": [],
   "source": [
    "#seperating X and y\n",
    "x = df.loc[:,['Age','Annual Income','Gender']].values   ### Creating X with columns age annual income and gender\n",
    "y = df.loc[:,['Spending Score']].values    ###  Creating Y with Spending score"
   ]
  },
  {
   "cell_type": "code",
   "execution_count": 48,
   "metadata": {},
   "outputs": [
    {
     "data": {
      "text/plain": [
       "array([[       19,  15000000,         1],\n",
       "       [       21,  15000000,         1],\n",
       "       [       20,  16000000,         0],\n",
       "       [       23,  16000000,         0],\n",
       "       [       31,  17000000,         0],\n",
       "       [       22,  17000000,         0],\n",
       "       [       35,  18000000,         0],\n",
       "       [       23,  18000000,         0],\n",
       "       [       64,  19000000,         1],\n",
       "       [       30,  19000000,         0],\n",
       "       [       67,  19000000,         1],\n",
       "       [       35,  19000000,         0],\n",
       "       [       58,  20000000,         0],\n",
       "       [       24,  20000000,         0],\n",
       "       [       37,  20000000,         1],\n",
       "       [       22,  20000000,         1],\n",
       "       [       35,  21000000,         0],\n",
       "       [       20,  21000000,         1],\n",
       "       [       52,  23000000,         1],\n",
       "       [       35,  23000000,         0],\n",
       "       [       35,  24000000,         1],\n",
       "       [       25,  24000000,         1],\n",
       "       [       46,  25000000,         0],\n",
       "       [       31,  25000000,         1],\n",
       "       [       54,  28000000,         0],\n",
       "       [       29,  28000000,         1],\n",
       "       [       45,  28000000,         0],\n",
       "       [       35,  28000000,         1],\n",
       "       [       40,  29000000,         0],\n",
       "       [       23,  29000000,         0],\n",
       "       [       60,  30000000,         1],\n",
       "       [       21,  30000000,         0],\n",
       "       [       53,  33000000,         1],\n",
       "       [       18,  33000000,         1],\n",
       "       [       49,  33000000,         0],\n",
       "       [       21,  33000000,         0],\n",
       "       [       42,  34000000,         0],\n",
       "       [       30,  34000000,         0],\n",
       "       [       36,  37000000,         0],\n",
       "       [       20,  37000000,         0],\n",
       "       [       65,  38000000,         0],\n",
       "       [       24,  38000000,         1],\n",
       "       [       48,  39000000,         1],\n",
       "       [       31,  39000000,         0],\n",
       "       [       49,  39000000,         0],\n",
       "       [       24,  39000000,         0],\n",
       "       [       50,  40000000,         0],\n",
       "       [       27,  40000000,         0],\n",
       "       [       29,  40000000,         0],\n",
       "       [       31,  40000000,         0],\n",
       "       [       49,  42000000,         0],\n",
       "       [       33,  42000000,         1],\n",
       "       [       31,  43000000,         0],\n",
       "       [       59,  43000000,         1],\n",
       "       [       50,  43000000,         0],\n",
       "       [       47,  43000000,         1],\n",
       "       [       51,  44000000,         0],\n",
       "       [       69,  44000000,         1],\n",
       "       [       27,  46000000,         0],\n",
       "       [       53,  46000000,         1],\n",
       "       [       70,  46000000,         1],\n",
       "       [       19,  46000000,         1],\n",
       "       [       67,  47000000,         0],\n",
       "       [       54,  47000000,         0],\n",
       "       [       63,  48000000,         1],\n",
       "       [       18,  48000000,         1],\n",
       "       [       43,  48000000,         0],\n",
       "       [       68,  48000000,         0],\n",
       "       [       19,  48000000,         1],\n",
       "       [       32,  48000000,         0],\n",
       "       [       70,  49000000,         1],\n",
       "       [       47,  49000000,         0],\n",
       "       [       60,  50000000,         0],\n",
       "       [       60,  50000000,         0],\n",
       "       [       59,  54000000,         1],\n",
       "       [       26,  54000000,         1],\n",
       "       [       45,  54000000,         0],\n",
       "       [       40,  54000000,         1],\n",
       "       [       23,  54000000,         0],\n",
       "       [       49,  54000000,         0],\n",
       "       [       57,  54000000,         1],\n",
       "       [       38,  54000000,         1],\n",
       "       [       67,  54000000,         1],\n",
       "       [       46,  54000000,         0],\n",
       "       [       21,  54000000,         0],\n",
       "       [       48,  54000000,         1],\n",
       "       [       55,  57000000,         0],\n",
       "       [       22,  57000000,         0],\n",
       "       [       34,  58000000,         0],\n",
       "       [       50,  58000000,         0],\n",
       "       [       68,  59000000,         0],\n",
       "       [       18,  59000000,         1],\n",
       "       [       48,  60000000,         1],\n",
       "       [       40,  60000000,         0],\n",
       "       [       32,  60000000,         0],\n",
       "       [       24,  60000000,         1],\n",
       "       [       47,  60000000,         0],\n",
       "       [       27,  60000000,         0],\n",
       "       [       48,  61000000,         1],\n",
       "       [       20,  61000000,         1],\n",
       "       [       23,  62000000,         0],\n",
       "       [       49,  62000000,         0],\n",
       "       [       67,  62000000,         1],\n",
       "       [       26,  62000000,         1],\n",
       "       [       49,  62000000,         1],\n",
       "       [       21,  62000000,         0],\n",
       "       [       66,  63000000,         0],\n",
       "       [       54,  63000000,         1],\n",
       "       [       68,  63000000,         1],\n",
       "       [       66,  63000000,         1],\n",
       "       [       65,  63000000,         1],\n",
       "       [       19,  63000000,         0],\n",
       "       [       38,  64000000,         0],\n",
       "       [       19,  64000000,         1],\n",
       "       [       18,  65000000,         0],\n",
       "       [       19,  65000000,         0],\n",
       "       [       63,  65000000,         0],\n",
       "       [       49,  65000000,         0],\n",
       "       [       51,  67000000,         0],\n",
       "       [       50,  67000000,         0],\n",
       "       [       27,  67000000,         1],\n",
       "       [       38,  67000000,         0],\n",
       "       [       40,  69000000,         0],\n",
       "       [       39,  69000000,         1],\n",
       "       [       23,  70000000,         0],\n",
       "       [       31,  70000000,         0],\n",
       "       [       43,  71000000,         1],\n",
       "       [       40,  71000000,         1],\n",
       "       [       59,  71000000,         1],\n",
       "       [       38,  71000000,         1],\n",
       "       [       47,  71000000,         1],\n",
       "       [       39,  71000000,         1],\n",
       "       [       25,  72000000,         0],\n",
       "       [       31,  72000000,         0],\n",
       "       [       20,  73000000,         1],\n",
       "       [       29,  73000000,         0],\n",
       "       [       44,  73000000,         0],\n",
       "       [       32,  73000000,         1],\n",
       "       [       19,  74000000,         1],\n",
       "       [       35,  74000000,         0],\n",
       "       [       57,  75000000,         0],\n",
       "       [       32,  75000000,         1],\n",
       "       [       28,  76000000,         0],\n",
       "       [       32,  76000000,         0],\n",
       "       [       25,  77000000,         1],\n",
       "       [       28,  77000000,         1],\n",
       "       [       48,  77000000,         1],\n",
       "       [       32,  77000000,         0],\n",
       "       [       34,  78000000,         0],\n",
       "       [       34,  78000000,         1],\n",
       "       [       43,  78000000,         1],\n",
       "       [       39,  78000000,         1],\n",
       "       [       44,  78000000,         0],\n",
       "       [       38,  78000000,         0],\n",
       "       [       47,  78000000,         0],\n",
       "       [       27,  78000000,         0],\n",
       "       [       37,  78000000,         1],\n",
       "       [       30,  78000000,         0],\n",
       "       [       34,  78000000,         1],\n",
       "       [       30,  78000000,         0],\n",
       "       [       56,  79000000,         0],\n",
       "       [       29,  79000000,         0],\n",
       "       [       19,  81000000,         1],\n",
       "       [       31,  81000000,         0],\n",
       "       [       50,  85000000,         1],\n",
       "       [       36,  85000000,         0],\n",
       "       [       42,  86000000,         1],\n",
       "       [       33,  86000000,         0],\n",
       "       [       36,  87000000,         0],\n",
       "       [       32,  87000000,         1],\n",
       "       [       40,  87000000,         1],\n",
       "       [       28,  87000000,         1],\n",
       "       [       36,  87000000,         1],\n",
       "       [       36,  87000000,         1],\n",
       "       [       52,  88000000,         0],\n",
       "       [       30,  88000000,         0],\n",
       "       [       58,  88000000,         1],\n",
       "       [       27,  88000000,         1],\n",
       "       [       59,  93000000,         1],\n",
       "       [       35,  93000000,         1],\n",
       "       [       37,  97000000,         0],\n",
       "       [       32,  97000000,         0],\n",
       "       [       46,  98000000,         1],\n",
       "       [       29,  98000000,         0],\n",
       "       [       41,  99000000,         0],\n",
       "       [       30,  99000000,         1],\n",
       "       [       54, 101000000,         0],\n",
       "       [       28, 101000000,         1],\n",
       "       [       41, 103000000,         0],\n",
       "       [       36, 103000000,         0],\n",
       "       [       34, 103000000,         0],\n",
       "       [       32, 103000000,         0],\n",
       "       [       33, 113000000,         1],\n",
       "       [       38, 113000000,         0],\n",
       "       [       47, 120000000,         0],\n",
       "       [       35, 120000000,         0],\n",
       "       [       45, 126000000,         0],\n",
       "       [       32, 126000000,         1],\n",
       "       [       32, 137000000,         1],\n",
       "       [       30, 137000000,         1]], dtype=int64)"
      ]
     },
     "execution_count": 48,
     "metadata": {},
     "output_type": "execute_result"
    }
   ],
   "source": [
    "x"
   ]
  },
  {
   "cell_type": "code",
   "execution_count": 49,
   "metadata": {},
   "outputs": [
    {
     "data": {
      "text/plain": [
       "array([[39],\n",
       "       [81],\n",
       "       [ 6],\n",
       "       [77],\n",
       "       [40],\n",
       "       [76],\n",
       "       [ 6],\n",
       "       [94],\n",
       "       [ 3],\n",
       "       [72],\n",
       "       [14],\n",
       "       [99],\n",
       "       [15],\n",
       "       [77],\n",
       "       [13],\n",
       "       [79],\n",
       "       [35],\n",
       "       [66],\n",
       "       [29],\n",
       "       [98],\n",
       "       [35],\n",
       "       [73],\n",
       "       [ 5],\n",
       "       [73],\n",
       "       [14],\n",
       "       [82],\n",
       "       [32],\n",
       "       [61],\n",
       "       [31],\n",
       "       [87],\n",
       "       [ 4],\n",
       "       [73],\n",
       "       [ 4],\n",
       "       [92],\n",
       "       [14],\n",
       "       [81],\n",
       "       [17],\n",
       "       [73],\n",
       "       [26],\n",
       "       [75],\n",
       "       [35],\n",
       "       [92],\n",
       "       [36],\n",
       "       [61],\n",
       "       [28],\n",
       "       [65],\n",
       "       [55],\n",
       "       [47],\n",
       "       [42],\n",
       "       [42],\n",
       "       [52],\n",
       "       [60],\n",
       "       [54],\n",
       "       [60],\n",
       "       [45],\n",
       "       [41],\n",
       "       [50],\n",
       "       [46],\n",
       "       [51],\n",
       "       [46],\n",
       "       [56],\n",
       "       [55],\n",
       "       [52],\n",
       "       [59],\n",
       "       [51],\n",
       "       [59],\n",
       "       [50],\n",
       "       [48],\n",
       "       [59],\n",
       "       [47],\n",
       "       [55],\n",
       "       [42],\n",
       "       [49],\n",
       "       [56],\n",
       "       [47],\n",
       "       [54],\n",
       "       [53],\n",
       "       [48],\n",
       "       [52],\n",
       "       [42],\n",
       "       [51],\n",
       "       [55],\n",
       "       [41],\n",
       "       [44],\n",
       "       [57],\n",
       "       [46],\n",
       "       [58],\n",
       "       [55],\n",
       "       [60],\n",
       "       [46],\n",
       "       [55],\n",
       "       [41],\n",
       "       [49],\n",
       "       [40],\n",
       "       [42],\n",
       "       [52],\n",
       "       [47],\n",
       "       [50],\n",
       "       [42],\n",
       "       [49],\n",
       "       [41],\n",
       "       [48],\n",
       "       [59],\n",
       "       [55],\n",
       "       [56],\n",
       "       [42],\n",
       "       [50],\n",
       "       [46],\n",
       "       [43],\n",
       "       [48],\n",
       "       [52],\n",
       "       [54],\n",
       "       [42],\n",
       "       [46],\n",
       "       [48],\n",
       "       [50],\n",
       "       [43],\n",
       "       [59],\n",
       "       [43],\n",
       "       [57],\n",
       "       [56],\n",
       "       [40],\n",
       "       [58],\n",
       "       [91],\n",
       "       [29],\n",
       "       [77],\n",
       "       [35],\n",
       "       [95],\n",
       "       [11],\n",
       "       [75],\n",
       "       [ 9],\n",
       "       [75],\n",
       "       [34],\n",
       "       [71],\n",
       "       [ 5],\n",
       "       [88],\n",
       "       [ 7],\n",
       "       [73],\n",
       "       [10],\n",
       "       [72],\n",
       "       [ 5],\n",
       "       [93],\n",
       "       [40],\n",
       "       [87],\n",
       "       [12],\n",
       "       [97],\n",
       "       [36],\n",
       "       [74],\n",
       "       [22],\n",
       "       [90],\n",
       "       [17],\n",
       "       [88],\n",
       "       [20],\n",
       "       [76],\n",
       "       [16],\n",
       "       [89],\n",
       "       [ 1],\n",
       "       [78],\n",
       "       [ 1],\n",
       "       [73],\n",
       "       [35],\n",
       "       [83],\n",
       "       [ 5],\n",
       "       [93],\n",
       "       [26],\n",
       "       [75],\n",
       "       [20],\n",
       "       [95],\n",
       "       [27],\n",
       "       [63],\n",
       "       [13],\n",
       "       [75],\n",
       "       [10],\n",
       "       [92],\n",
       "       [13],\n",
       "       [86],\n",
       "       [15],\n",
       "       [69],\n",
       "       [14],\n",
       "       [90],\n",
       "       [32],\n",
       "       [86],\n",
       "       [15],\n",
       "       [88],\n",
       "       [39],\n",
       "       [97],\n",
       "       [24],\n",
       "       [68],\n",
       "       [17],\n",
       "       [85],\n",
       "       [23],\n",
       "       [69],\n",
       "       [ 8],\n",
       "       [91],\n",
       "       [16],\n",
       "       [79],\n",
       "       [28],\n",
       "       [74],\n",
       "       [18],\n",
       "       [83]], dtype=int64)"
      ]
     },
     "execution_count": 49,
     "metadata": {},
     "output_type": "execute_result"
    }
   ],
   "source": [
    "y"
   ]
  },
  {
   "cell_type": "code",
   "execution_count": 50,
   "metadata": {},
   "outputs": [],
   "source": [
    "#### Feature Scaling \n",
    "### In KNN Algorithm the Feature scaling is necessary\n",
    "\n",
    "from sklearn.preprocessing import StandardScaler\n",
    "sc = StandardScaler()\n",
    "X = sc.fit_transform(x)"
   ]
  },
  {
   "cell_type": "code",
   "execution_count": 51,
   "metadata": {},
   "outputs": [],
   "source": [
    "#model was expecting a 1d array as input\n",
    "y = y.reshape(-1)"
   ]
  },
  {
   "cell_type": "code",
   "execution_count": 52,
   "metadata": {},
   "outputs": [
    {
     "data": {
      "text/plain": [
       "(200,)"
      ]
     },
     "execution_count": 52,
     "metadata": {},
     "output_type": "execute_result"
    }
   ],
   "source": [
    "y.shape"
   ]
  },
  {
   "cell_type": "code",
   "execution_count": 53,
   "metadata": {},
   "outputs": [
    {
     "data": {
      "text/plain": [
       "array([39, 81,  6, 77, 40, 76,  6, 94,  3, 72, 14, 99, 15, 77, 13, 79, 35,\n",
       "       66, 29, 98, 35, 73,  5, 73, 14, 82, 32, 61, 31, 87,  4, 73,  4, 92,\n",
       "       14, 81, 17, 73, 26, 75, 35, 92, 36, 61, 28, 65, 55, 47, 42, 42, 52,\n",
       "       60, 54, 60, 45, 41, 50, 46, 51, 46, 56, 55, 52, 59, 51, 59, 50, 48,\n",
       "       59, 47, 55, 42, 49, 56, 47, 54, 53, 48, 52, 42, 51, 55, 41, 44, 57,\n",
       "       46, 58, 55, 60, 46, 55, 41, 49, 40, 42, 52, 47, 50, 42, 49, 41, 48,\n",
       "       59, 55, 56, 42, 50, 46, 43, 48, 52, 54, 42, 46, 48, 50, 43, 59, 43,\n",
       "       57, 56, 40, 58, 91, 29, 77, 35, 95, 11, 75,  9, 75, 34, 71,  5, 88,\n",
       "        7, 73, 10, 72,  5, 93, 40, 87, 12, 97, 36, 74, 22, 90, 17, 88, 20,\n",
       "       76, 16, 89,  1, 78,  1, 73, 35, 83,  5, 93, 26, 75, 20, 95, 27, 63,\n",
       "       13, 75, 10, 92, 13, 86, 15, 69, 14, 90, 32, 86, 15, 88, 39, 97, 24,\n",
       "       68, 17, 85, 23, 69,  8, 91, 16, 79, 28, 74, 18, 83], dtype=int64)"
      ]
     },
     "execution_count": 53,
     "metadata": {},
     "output_type": "execute_result"
    }
   ],
   "source": [
    "y"
   ]
  },
  {
   "cell_type": "code",
   "execution_count": 54,
   "metadata": {},
   "outputs": [],
   "source": [
    "#Splitting the data into train and test data\n",
    "from sklearn.model_selection import train_test_split\n",
    "X_train,X_test,y_train,y_test = train_test_split(X,y,random_state = 0, test_size = 0.25)"
   ]
  },
  {
   "cell_type": "code",
   "execution_count": 55,
   "metadata": {},
   "outputs": [],
   "source": [
    "#importing classification metrics\n",
    "from sklearn.metrics import confusion_matrix,accuracy_score"
   ]
  },
  {
   "cell_type": "code",
   "execution_count": 56,
   "metadata": {
    "scrolled": true
   },
   "outputs": [
    {
     "name": "stderr",
     "output_type": "stream",
     "text": [
      "C:\\Users\\Revnomix\\Anaconda3\\lib\\site-packages\\sklearn\\linear_model\\least_angle.py:30: DeprecationWarning: `np.float` is a deprecated alias for the builtin `float`. To silence this warning, use `float` by itself. Doing this will not modify any behavior and is safe. If you specifically wanted the numpy scalar type, use `np.float64` here.\n",
      "Deprecated in NumPy 1.20; for more details and guidance: https://numpy.org/devdocs/release/1.20.0-notes.html#deprecations\n",
      "  method='lar', copy_X=True, eps=np.finfo(np.float).eps,\n",
      "C:\\Users\\Revnomix\\Anaconda3\\lib\\site-packages\\sklearn\\linear_model\\least_angle.py:167: DeprecationWarning: `np.float` is a deprecated alias for the builtin `float`. To silence this warning, use `float` by itself. Doing this will not modify any behavior and is safe. If you specifically wanted the numpy scalar type, use `np.float64` here.\n",
      "Deprecated in NumPy 1.20; for more details and guidance: https://numpy.org/devdocs/release/1.20.0-notes.html#deprecations\n",
      "  method='lar', copy_X=True, eps=np.finfo(np.float).eps,\n",
      "C:\\Users\\Revnomix\\Anaconda3\\lib\\site-packages\\sklearn\\linear_model\\least_angle.py:284: DeprecationWarning: `np.float` is a deprecated alias for the builtin `float`. To silence this warning, use `float` by itself. Doing this will not modify any behavior and is safe. If you specifically wanted the numpy scalar type, use `np.float64` here.\n",
      "Deprecated in NumPy 1.20; for more details and guidance: https://numpy.org/devdocs/release/1.20.0-notes.html#deprecations\n",
      "  eps=np.finfo(np.float).eps, copy_Gram=True, verbose=0,\n",
      "C:\\Users\\Revnomix\\Anaconda3\\lib\\site-packages\\sklearn\\linear_model\\least_angle.py:862: DeprecationWarning: `np.float` is a deprecated alias for the builtin `float`. To silence this warning, use `float` by itself. Doing this will not modify any behavior and is safe. If you specifically wanted the numpy scalar type, use `np.float64` here.\n",
      "Deprecated in NumPy 1.20; for more details and guidance: https://numpy.org/devdocs/release/1.20.0-notes.html#deprecations\n",
      "  eps=np.finfo(np.float).eps, copy_X=True, fit_path=True,\n",
      "C:\\Users\\Revnomix\\Anaconda3\\lib\\site-packages\\sklearn\\linear_model\\least_angle.py:1101: DeprecationWarning: `np.float` is a deprecated alias for the builtin `float`. To silence this warning, use `float` by itself. Doing this will not modify any behavior and is safe. If you specifically wanted the numpy scalar type, use `np.float64` here.\n",
      "Deprecated in NumPy 1.20; for more details and guidance: https://numpy.org/devdocs/release/1.20.0-notes.html#deprecations\n",
      "  eps=np.finfo(np.float).eps, copy_X=True, fit_path=True,\n",
      "C:\\Users\\Revnomix\\Anaconda3\\lib\\site-packages\\sklearn\\linear_model\\least_angle.py:1127: DeprecationWarning: `np.float` is a deprecated alias for the builtin `float`. To silence this warning, use `float` by itself. Doing this will not modify any behavior and is safe. If you specifically wanted the numpy scalar type, use `np.float64` here.\n",
      "Deprecated in NumPy 1.20; for more details and guidance: https://numpy.org/devdocs/release/1.20.0-notes.html#deprecations\n",
      "  eps=np.finfo(np.float).eps, positive=False):\n",
      "C:\\Users\\Revnomix\\Anaconda3\\lib\\site-packages\\sklearn\\linear_model\\least_angle.py:1362: DeprecationWarning: `np.float` is a deprecated alias for the builtin `float`. To silence this warning, use `float` by itself. Doing this will not modify any behavior and is safe. If you specifically wanted the numpy scalar type, use `np.float64` here.\n",
      "Deprecated in NumPy 1.20; for more details and guidance: https://numpy.org/devdocs/release/1.20.0-notes.html#deprecations\n",
      "  max_n_alphas=1000, n_jobs=None, eps=np.finfo(np.float).eps,\n",
      "C:\\Users\\Revnomix\\Anaconda3\\lib\\site-packages\\sklearn\\linear_model\\least_angle.py:1602: DeprecationWarning: `np.float` is a deprecated alias for the builtin `float`. To silence this warning, use `float` by itself. Doing this will not modify any behavior and is safe. If you specifically wanted the numpy scalar type, use `np.float64` here.\n",
      "Deprecated in NumPy 1.20; for more details and guidance: https://numpy.org/devdocs/release/1.20.0-notes.html#deprecations\n",
      "  max_n_alphas=1000, n_jobs=None, eps=np.finfo(np.float).eps,\n",
      "C:\\Users\\Revnomix\\Anaconda3\\lib\\site-packages\\sklearn\\linear_model\\least_angle.py:1738: DeprecationWarning: `np.float` is a deprecated alias for the builtin `float`. To silence this warning, use `float` by itself. Doing this will not modify any behavior and is safe. If you specifically wanted the numpy scalar type, use `np.float64` here.\n",
      "Deprecated in NumPy 1.20; for more details and guidance: https://numpy.org/devdocs/release/1.20.0-notes.html#deprecations\n",
      "  eps=np.finfo(np.float).eps, copy_X=True, positive=False):\n",
      "C:\\Users\\Revnomix\\Anaconda3\\lib\\site-packages\\sklearn\\decomposition\\online_lda.py:29: DeprecationWarning: `np.float` is a deprecated alias for the builtin `float`. To silence this warning, use `float` by itself. Doing this will not modify any behavior and is safe. If you specifically wanted the numpy scalar type, use `np.float64` here.\n",
      "Deprecated in NumPy 1.20; for more details and guidance: https://numpy.org/devdocs/release/1.20.0-notes.html#deprecations\n",
      "  EPS = np.finfo(np.float).eps\n"
     ]
    }
   ],
   "source": [
    "from sklearn.neighbors import KNeighborsClassifier"
   ]
  },
  {
   "cell_type": "code",
   "execution_count": 57,
   "metadata": {},
   "outputs": [
    {
     "name": "stderr",
     "output_type": "stream",
     "text": [
      "C:\\Users\\Revnomix\\Anaconda3\\lib\\site-packages\\sklearn\\neighbors\\base.py:908: DeprecationWarning: `np.int` is a deprecated alias for the builtin `int`. To silence this warning, use `int` by itself. Doing this will not modify any behavior and is safe. When replacing `np.int`, you may wish to use e.g. `np.int64` or `np.int32` to specify the precision. If you wish to review your current use, check the release note link for additional information.\n",
      "Deprecated in NumPy 1.20; for more details and guidance: https://numpy.org/devdocs/release/1.20.0-notes.html#deprecations\n",
      "  self._y = np.empty(y.shape, dtype=np.int)\n",
      "C:\\Users\\Revnomix\\Anaconda3\\lib\\site-packages\\sklearn\\neighbors\\base.py:908: DeprecationWarning: `np.int` is a deprecated alias for the builtin `int`. To silence this warning, use `int` by itself. Doing this will not modify any behavior and is safe. When replacing `np.int`, you may wish to use e.g. `np.int64` or `np.int32` to specify the precision. If you wish to review your current use, check the release note link for additional information.\n",
      "Deprecated in NumPy 1.20; for more details and guidance: https://numpy.org/devdocs/release/1.20.0-notes.html#deprecations\n",
      "  self._y = np.empty(y.shape, dtype=np.int)\n",
      "C:\\Users\\Revnomix\\Anaconda3\\lib\\site-packages\\sklearn\\neighbors\\base.py:908: DeprecationWarning: `np.int` is a deprecated alias for the builtin `int`. To silence this warning, use `int` by itself. Doing this will not modify any behavior and is safe. When replacing `np.int`, you may wish to use e.g. `np.int64` or `np.int32` to specify the precision. If you wish to review your current use, check the release note link for additional information.\n",
      "Deprecated in NumPy 1.20; for more details and guidance: https://numpy.org/devdocs/release/1.20.0-notes.html#deprecations\n",
      "  self._y = np.empty(y.shape, dtype=np.int)\n",
      "C:\\Users\\Revnomix\\Anaconda3\\lib\\site-packages\\sklearn\\neighbors\\base.py:908: DeprecationWarning: `np.int` is a deprecated alias for the builtin `int`. To silence this warning, use `int` by itself. Doing this will not modify any behavior and is safe. When replacing `np.int`, you may wish to use e.g. `np.int64` or `np.int32` to specify the precision. If you wish to review your current use, check the release note link for additional information.\n",
      "Deprecated in NumPy 1.20; for more details and guidance: https://numpy.org/devdocs/release/1.20.0-notes.html#deprecations\n",
      "  self._y = np.empty(y.shape, dtype=np.int)\n",
      "C:\\Users\\Revnomix\\Anaconda3\\lib\\site-packages\\sklearn\\neighbors\\base.py:908: DeprecationWarning: `np.int` is a deprecated alias for the builtin `int`. To silence this warning, use `int` by itself. Doing this will not modify any behavior and is safe. When replacing `np.int`, you may wish to use e.g. `np.int64` or `np.int32` to specify the precision. If you wish to review your current use, check the release note link for additional information.\n",
      "Deprecated in NumPy 1.20; for more details and guidance: https://numpy.org/devdocs/release/1.20.0-notes.html#deprecations\n",
      "  self._y = np.empty(y.shape, dtype=np.int)\n",
      "C:\\Users\\Revnomix\\Anaconda3\\lib\\site-packages\\sklearn\\neighbors\\base.py:908: DeprecationWarning: `np.int` is a deprecated alias for the builtin `int`. To silence this warning, use `int` by itself. Doing this will not modify any behavior and is safe. When replacing `np.int`, you may wish to use e.g. `np.int64` or `np.int32` to specify the precision. If you wish to review your current use, check the release note link for additional information.\n",
      "Deprecated in NumPy 1.20; for more details and guidance: https://numpy.org/devdocs/release/1.20.0-notes.html#deprecations\n",
      "  self._y = np.empty(y.shape, dtype=np.int)\n",
      "C:\\Users\\Revnomix\\Anaconda3\\lib\\site-packages\\sklearn\\neighbors\\base.py:908: DeprecationWarning: `np.int` is a deprecated alias for the builtin `int`. To silence this warning, use `int` by itself. Doing this will not modify any behavior and is safe. When replacing `np.int`, you may wish to use e.g. `np.int64` or `np.int32` to specify the precision. If you wish to review your current use, check the release note link for additional information.\n",
      "Deprecated in NumPy 1.20; for more details and guidance: https://numpy.org/devdocs/release/1.20.0-notes.html#deprecations\n",
      "  self._y = np.empty(y.shape, dtype=np.int)\n",
      "C:\\Users\\Revnomix\\Anaconda3\\lib\\site-packages\\sklearn\\neighbors\\base.py:908: DeprecationWarning: `np.int` is a deprecated alias for the builtin `int`. To silence this warning, use `int` by itself. Doing this will not modify any behavior and is safe. When replacing `np.int`, you may wish to use e.g. `np.int64` or `np.int32` to specify the precision. If you wish to review your current use, check the release note link for additional information.\n",
      "Deprecated in NumPy 1.20; for more details and guidance: https://numpy.org/devdocs/release/1.20.0-notes.html#deprecations\n",
      "  self._y = np.empty(y.shape, dtype=np.int)\n",
      "C:\\Users\\Revnomix\\Anaconda3\\lib\\site-packages\\sklearn\\neighbors\\base.py:908: DeprecationWarning: `np.int` is a deprecated alias for the builtin `int`. To silence this warning, use `int` by itself. Doing this will not modify any behavior and is safe. When replacing `np.int`, you may wish to use e.g. `np.int64` or `np.int32` to specify the precision. If you wish to review your current use, check the release note link for additional information.\n",
      "Deprecated in NumPy 1.20; for more details and guidance: https://numpy.org/devdocs/release/1.20.0-notes.html#deprecations\n",
      "  self._y = np.empty(y.shape, dtype=np.int)\n",
      "C:\\Users\\Revnomix\\Anaconda3\\lib\\site-packages\\sklearn\\neighbors\\base.py:908: DeprecationWarning: `np.int` is a deprecated alias for the builtin `int`. To silence this warning, use `int` by itself. Doing this will not modify any behavior and is safe. When replacing `np.int`, you may wish to use e.g. `np.int64` or `np.int32` to specify the precision. If you wish to review your current use, check the release note link for additional information.\n",
      "Deprecated in NumPy 1.20; for more details and guidance: https://numpy.org/devdocs/release/1.20.0-notes.html#deprecations\n",
      "  self._y = np.empty(y.shape, dtype=np.int)\n",
      "C:\\Users\\Revnomix\\Anaconda3\\lib\\site-packages\\sklearn\\neighbors\\base.py:908: DeprecationWarning: `np.int` is a deprecated alias for the builtin `int`. To silence this warning, use `int` by itself. Doing this will not modify any behavior and is safe. When replacing `np.int`, you may wish to use e.g. `np.int64` or `np.int32` to specify the precision. If you wish to review your current use, check the release note link for additional information.\n",
      "Deprecated in NumPy 1.20; for more details and guidance: https://numpy.org/devdocs/release/1.20.0-notes.html#deprecations\n",
      "  self._y = np.empty(y.shape, dtype=np.int)\n",
      "C:\\Users\\Revnomix\\Anaconda3\\lib\\site-packages\\sklearn\\neighbors\\base.py:908: DeprecationWarning: `np.int` is a deprecated alias for the builtin `int`. To silence this warning, use `int` by itself. Doing this will not modify any behavior and is safe. When replacing `np.int`, you may wish to use e.g. `np.int64` or `np.int32` to specify the precision. If you wish to review your current use, check the release note link for additional information.\n",
      "Deprecated in NumPy 1.20; for more details and guidance: https://numpy.org/devdocs/release/1.20.0-notes.html#deprecations\n",
      "  self._y = np.empty(y.shape, dtype=np.int)\n",
      "C:\\Users\\Revnomix\\Anaconda3\\lib\\site-packages\\sklearn\\neighbors\\base.py:908: DeprecationWarning: `np.int` is a deprecated alias for the builtin `int`. To silence this warning, use `int` by itself. Doing this will not modify any behavior and is safe. When replacing `np.int`, you may wish to use e.g. `np.int64` or `np.int32` to specify the precision. If you wish to review your current use, check the release note link for additional information.\n",
      "Deprecated in NumPy 1.20; for more details and guidance: https://numpy.org/devdocs/release/1.20.0-notes.html#deprecations\n",
      "  self._y = np.empty(y.shape, dtype=np.int)\n",
      "C:\\Users\\Revnomix\\Anaconda3\\lib\\site-packages\\sklearn\\neighbors\\base.py:908: DeprecationWarning: `np.int` is a deprecated alias for the builtin `int`. To silence this warning, use `int` by itself. Doing this will not modify any behavior and is safe. When replacing `np.int`, you may wish to use e.g. `np.int64` or `np.int32` to specify the precision. If you wish to review your current use, check the release note link for additional information.\n",
      "Deprecated in NumPy 1.20; for more details and guidance: https://numpy.org/devdocs/release/1.20.0-notes.html#deprecations\n",
      "  self._y = np.empty(y.shape, dtype=np.int)\n",
      "C:\\Users\\Revnomix\\Anaconda3\\lib\\site-packages\\sklearn\\neighbors\\base.py:908: DeprecationWarning: `np.int` is a deprecated alias for the builtin `int`. To silence this warning, use `int` by itself. Doing this will not modify any behavior and is safe. When replacing `np.int`, you may wish to use e.g. `np.int64` or `np.int32` to specify the precision. If you wish to review your current use, check the release note link for additional information.\n",
      "Deprecated in NumPy 1.20; for more details and guidance: https://numpy.org/devdocs/release/1.20.0-notes.html#deprecations\n",
      "  self._y = np.empty(y.shape, dtype=np.int)\n",
      "C:\\Users\\Revnomix\\Anaconda3\\lib\\site-packages\\sklearn\\neighbors\\base.py:908: DeprecationWarning: `np.int` is a deprecated alias for the builtin `int`. To silence this warning, use `int` by itself. Doing this will not modify any behavior and is safe. When replacing `np.int`, you may wish to use e.g. `np.int64` or `np.int32` to specify the precision. If you wish to review your current use, check the release note link for additional information.\n",
      "Deprecated in NumPy 1.20; for more details and guidance: https://numpy.org/devdocs/release/1.20.0-notes.html#deprecations\n",
      "  self._y = np.empty(y.shape, dtype=np.int)\n",
      "C:\\Users\\Revnomix\\Anaconda3\\lib\\site-packages\\sklearn\\neighbors\\base.py:908: DeprecationWarning: `np.int` is a deprecated alias for the builtin `int`. To silence this warning, use `int` by itself. Doing this will not modify any behavior and is safe. When replacing `np.int`, you may wish to use e.g. `np.int64` or `np.int32` to specify the precision. If you wish to review your current use, check the release note link for additional information.\n",
      "Deprecated in NumPy 1.20; for more details and guidance: https://numpy.org/devdocs/release/1.20.0-notes.html#deprecations\n",
      "  self._y = np.empty(y.shape, dtype=np.int)\n",
      "C:\\Users\\Revnomix\\Anaconda3\\lib\\site-packages\\sklearn\\neighbors\\base.py:908: DeprecationWarning: `np.int` is a deprecated alias for the builtin `int`. To silence this warning, use `int` by itself. Doing this will not modify any behavior and is safe. When replacing `np.int`, you may wish to use e.g. `np.int64` or `np.int32` to specify the precision. If you wish to review your current use, check the release note link for additional information.\n",
      "Deprecated in NumPy 1.20; for more details and guidance: https://numpy.org/devdocs/release/1.20.0-notes.html#deprecations\n",
      "  self._y = np.empty(y.shape, dtype=np.int)\n",
      "C:\\Users\\Revnomix\\Anaconda3\\lib\\site-packages\\sklearn\\neighbors\\base.py:908: DeprecationWarning: `np.int` is a deprecated alias for the builtin `int`. To silence this warning, use `int` by itself. Doing this will not modify any behavior and is safe. When replacing `np.int`, you may wish to use e.g. `np.int64` or `np.int32` to specify the precision. If you wish to review your current use, check the release note link for additional information.\n",
      "Deprecated in NumPy 1.20; for more details and guidance: https://numpy.org/devdocs/release/1.20.0-notes.html#deprecations\n",
      "  self._y = np.empty(y.shape, dtype=np.int)\n",
      "C:\\Users\\Revnomix\\Anaconda3\\lib\\site-packages\\sklearn\\neighbors\\base.py:908: DeprecationWarning: `np.int` is a deprecated alias for the builtin `int`. To silence this warning, use `int` by itself. Doing this will not modify any behavior and is safe. When replacing `np.int`, you may wish to use e.g. `np.int64` or `np.int32` to specify the precision. If you wish to review your current use, check the release note link for additional information.\n",
      "Deprecated in NumPy 1.20; for more details and guidance: https://numpy.org/devdocs/release/1.20.0-notes.html#deprecations\n",
      "  self._y = np.empty(y.shape, dtype=np.int)\n",
      "C:\\Users\\Revnomix\\Anaconda3\\lib\\site-packages\\sklearn\\neighbors\\base.py:908: DeprecationWarning: `np.int` is a deprecated alias for the builtin `int`. To silence this warning, use `int` by itself. Doing this will not modify any behavior and is safe. When replacing `np.int`, you may wish to use e.g. `np.int64` or `np.int32` to specify the precision. If you wish to review your current use, check the release note link for additional information.\n",
      "Deprecated in NumPy 1.20; for more details and guidance: https://numpy.org/devdocs/release/1.20.0-notes.html#deprecations\n",
      "  self._y = np.empty(y.shape, dtype=np.int)\n",
      "C:\\Users\\Revnomix\\Anaconda3\\lib\\site-packages\\sklearn\\neighbors\\base.py:908: DeprecationWarning: `np.int` is a deprecated alias for the builtin `int`. To silence this warning, use `int` by itself. Doing this will not modify any behavior and is safe. When replacing `np.int`, you may wish to use e.g. `np.int64` or `np.int32` to specify the precision. If you wish to review your current use, check the release note link for additional information.\n",
      "Deprecated in NumPy 1.20; for more details and guidance: https://numpy.org/devdocs/release/1.20.0-notes.html#deprecations\n",
      "  self._y = np.empty(y.shape, dtype=np.int)\n",
      "C:\\Users\\Revnomix\\Anaconda3\\lib\\site-packages\\sklearn\\neighbors\\base.py:908: DeprecationWarning: `np.int` is a deprecated alias for the builtin `int`. To silence this warning, use `int` by itself. Doing this will not modify any behavior and is safe. When replacing `np.int`, you may wish to use e.g. `np.int64` or `np.int32` to specify the precision. If you wish to review your current use, check the release note link for additional information.\n",
      "Deprecated in NumPy 1.20; for more details and guidance: https://numpy.org/devdocs/release/1.20.0-notes.html#deprecations\n",
      "  self._y = np.empty(y.shape, dtype=np.int)\n",
      "C:\\Users\\Revnomix\\Anaconda3\\lib\\site-packages\\sklearn\\neighbors\\base.py:908: DeprecationWarning: `np.int` is a deprecated alias for the builtin `int`. To silence this warning, use `int` by itself. Doing this will not modify any behavior and is safe. When replacing `np.int`, you may wish to use e.g. `np.int64` or `np.int32` to specify the precision. If you wish to review your current use, check the release note link for additional information.\n",
      "Deprecated in NumPy 1.20; for more details and guidance: https://numpy.org/devdocs/release/1.20.0-notes.html#deprecations\n",
      "  self._y = np.empty(y.shape, dtype=np.int)\n"
     ]
    }
   ],
   "source": [
    "###### Selcting value of K\n",
    "\n",
    "accu_list = []\n",
    "err_list = []\n",
    "for i in range(1,25):\n",
    "    model = KNeighborsClassifier(n_neighbors=i)\n",
    "    model.fit(X_train,y_train)\n",
    "    y_pred = model.predict(X_test)\n",
    "    accu = accuracy_score(y_test,y_pred)\n",
    "#     print(\"For k = {}, accuracy = {}\".format(i,acc))\n",
    "    accu_list.append(accu)\n",
    "    err_list.append(1-accu)"
   ]
  },
  {
   "cell_type": "code",
   "execution_count": 60,
   "metadata": {},
   "outputs": [
    {
     "data": {
      "image/png": "[encoded data removed]",
      "text/plain": [
       "<Figure size 432x288 with 1 Axes>"
      ]
     },
     "metadata": {
      "needs_background": "light"
     },
     "output_type": "display_data"
    }
   ],
   "source": [
    "plt.plot(list(range(1,25)),err_list,c= 'r')\n",
    "plt.title('Error rate v/s K')\n",
    "plt.xlabel('K')\n",
    "plt.ylabel('Error rate')\n",
    "plt.show()"
   ]
  },
  {
   "cell_type": "code",
   "execution_count": 64,
   "metadata": {},
   "outputs": [],
   "source": [
    "###  From Above Graph we can select k as 5"
   ]
  },
  {
   "cell_type": "code",
   "execution_count": 71,
   "metadata": {},
   "outputs": [
    {
     "name": "stderr",
     "output_type": "stream",
     "text": [
      "C:\\Users\\Revnomix\\Anaconda3\\lib\\site-packages\\sklearn\\neighbors\\base.py:908: DeprecationWarning: `np.int` is a deprecated alias for the builtin `int`. To silence this warning, use `int` by itself. Doing this will not modify any behavior and is safe. When replacing `np.int`, you may wish to use e.g. `np.int64` or `np.int32` to specify the precision. If you wish to review your current use, check the release note link for additional information.\n",
      "Deprecated in NumPy 1.20; for more details and guidance: https://numpy.org/devdocs/release/1.20.0-notes.html#deprecations\n",
      "  self._y = np.empty(y.shape, dtype=np.int)\n"
     ]
    }
   ],
   "source": [
    "### Model BUilding\n",
    "model = KNeighborsClassifier(n_neighbors=5)\n",
    "model.fit(X_train,y_train)\n",
    "y_pred = model.predict(X_test)"
   ]
  },
  {
   "cell_type": "code",
   "execution_count": 72,
   "metadata": {},
   "outputs": [
    {
     "data": {
      "text/plain": [
       "array([[0, 0, 0, ..., 0, 0, 0],\n",
       "       [0, 0, 1, ..., 0, 0, 0],\n",
       "       [0, 0, 0, ..., 0, 0, 0],\n",
       "       ...,\n",
       "       [0, 0, 0, ..., 0, 0, 0],\n",
       "       [0, 0, 0, ..., 0, 0, 0],\n",
       "       [0, 0, 0, ..., 0, 0, 0]], dtype=int64)"
      ]
     },
     "execution_count": 72,
     "metadata": {},
     "output_type": "execute_result"
    }
   ],
   "source": [
    "### Module Evalution\n",
    "confusion_matrix(y_test,y_pred)"
   ]
  },
  {
   "cell_type": "code",
   "execution_count": 73,
   "metadata": {},
   "outputs": [
    {
     "data": {
      "text/plain": [
       "0.04"
      ]
     },
     "execution_count": 73,
     "metadata": {},
     "output_type": "execute_result"
    }
   ],
   "source": [
    "accuracy_score(y_test,y_pred)"
   ]
  },
  {
   "cell_type": "code",
   "execution_count": null,
   "metadata": {},
   "outputs": [],
   "source": []
  }
 ],
 "metadata": {
  "kernelspec": {
   "display_name": "Python 3",
   "language": "python",
   "name": "python3"
  },
  "language_info": {
   "codemirror_mode": {
    "name": "ipython",
    "version": 3
   },
   "file_extension": ".py",
   "mimetype": "text/x-python",
   "name": "python",
   "nbconvert_exporter": "python",
   "pygments_lexer": "ipython3",
   "version": "3.7.3"
  }
 },
 "nbformat": 4,
 "nbformat_minor": 2
}
